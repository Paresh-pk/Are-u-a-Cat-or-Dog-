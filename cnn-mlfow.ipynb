{
 "cells": [
  {
   "cell_type": "code",
   "execution_count": 1,
   "metadata": {},
   "outputs": [
    {
     "name": "stderr",
     "output_type": "stream",
     "text": [
      "WARNING:root:Malformed experiment '1'. Detailed error Yaml file 'C:\\Users\\pares\\OneDrive\\Documents\\vs code\\are-u-cat\\mlruns\\1\\meta.yaml' does not exist.\n",
      "Traceback (most recent call last):\n",
      "  File \"C:\\Users\\pares\\AppData\\Local\\Packages\\PythonSoftwareFoundation.Python.3.11_qbz5n2kfra8p0\\LocalCache\\local-packages\\Python311\\site-packages\\mlflow\\store\\tracking\\file_store.py\", line 367, in search_experiments\n",
      "    exp = self._get_experiment(exp_id, view_type)\n",
      "          ^^^^^^^^^^^^^^^^^^^^^^^^^^^^^^^^^^^^^^^\n",
      "  File \"C:\\Users\\pares\\AppData\\Local\\Packages\\PythonSoftwareFoundation.Python.3.11_qbz5n2kfra8p0\\LocalCache\\local-packages\\Python311\\site-packages\\mlflow\\store\\tracking\\file_store.py\", line 465, in _get_experiment\n",
      "    meta = FileStore._read_yaml(experiment_dir, FileStore.META_DATA_FILE_NAME)\n",
      "           ^^^^^^^^^^^^^^^^^^^^^^^^^^^^^^^^^^^^^^^^^^^^^^^^^^^^^^^^^^^^^^^^^^^\n",
      "  File \"C:\\Users\\pares\\AppData\\Local\\Packages\\PythonSoftwareFoundation.Python.3.11_qbz5n2kfra8p0\\LocalCache\\local-packages\\Python311\\site-packages\\mlflow\\store\\tracking\\file_store.py\", line 1635, in _read_yaml\n",
      "    return _read_helper(root, file_name, attempts_remaining=retries)\n",
      "           ^^^^^^^^^^^^^^^^^^^^^^^^^^^^^^^^^^^^^^^^^^^^^^^^^^^^^^^^^\n",
      "  File \"C:\\Users\\pares\\AppData\\Local\\Packages\\PythonSoftwareFoundation.Python.3.11_qbz5n2kfra8p0\\LocalCache\\local-packages\\Python311\\site-packages\\mlflow\\store\\tracking\\file_store.py\", line 1628, in _read_helper\n",
      "    result = read_yaml(root, file_name)\n",
      "             ^^^^^^^^^^^^^^^^^^^^^^^^^^\n",
      "  File \"C:\\Users\\pares\\AppData\\Local\\Packages\\PythonSoftwareFoundation.Python.3.11_qbz5n2kfra8p0\\LocalCache\\local-packages\\Python311\\site-packages\\mlflow\\utils\\yaml_utils.py\", line 107, in read_yaml\n",
      "    raise MissingConfigException(f\"Yaml file '{file_path}' does not exist.\")\n",
      "mlflow.exceptions.MissingConfigException: Yaml file 'C:\\Users\\pares\\OneDrive\\Documents\\vs code\\are-u-cat\\mlruns\\1\\meta.yaml' does not exist.\n",
      "2025/09/23 21:03:32 INFO mlflow.tracking.fluent: Experiment with name 'cat-vs-dog-hyperparam-tuning' does not exist. Creating a new experiment.\n",
      "WARNING:root:Malformed experiment '1'. Detailed error Yaml file 'C:\\Users\\pares\\OneDrive\\Documents\\vs code\\are-u-cat\\mlruns\\1\\meta.yaml' does not exist.\n",
      "Traceback (most recent call last):\n",
      "  File \"C:\\Users\\pares\\AppData\\Local\\Packages\\PythonSoftwareFoundation.Python.3.11_qbz5n2kfra8p0\\LocalCache\\local-packages\\Python311\\site-packages\\mlflow\\store\\tracking\\file_store.py\", line 367, in search_experiments\n",
      "    exp = self._get_experiment(exp_id, view_type)\n",
      "          ^^^^^^^^^^^^^^^^^^^^^^^^^^^^^^^^^^^^^^^\n",
      "  File \"C:\\Users\\pares\\AppData\\Local\\Packages\\PythonSoftwareFoundation.Python.3.11_qbz5n2kfra8p0\\LocalCache\\local-packages\\Python311\\site-packages\\mlflow\\store\\tracking\\file_store.py\", line 465, in _get_experiment\n",
      "    meta = FileStore._read_yaml(experiment_dir, FileStore.META_DATA_FILE_NAME)\n",
      "           ^^^^^^^^^^^^^^^^^^^^^^^^^^^^^^^^^^^^^^^^^^^^^^^^^^^^^^^^^^^^^^^^^^^\n",
      "  File \"C:\\Users\\pares\\AppData\\Local\\Packages\\PythonSoftwareFoundation.Python.3.11_qbz5n2kfra8p0\\LocalCache\\local-packages\\Python311\\site-packages\\mlflow\\store\\tracking\\file_store.py\", line 1635, in _read_yaml\n",
      "    return _read_helper(root, file_name, attempts_remaining=retries)\n",
      "           ^^^^^^^^^^^^^^^^^^^^^^^^^^^^^^^^^^^^^^^^^^^^^^^^^^^^^^^^^\n",
      "  File \"C:\\Users\\pares\\AppData\\Local\\Packages\\PythonSoftwareFoundation.Python.3.11_qbz5n2kfra8p0\\LocalCache\\local-packages\\Python311\\site-packages\\mlflow\\store\\tracking\\file_store.py\", line 1628, in _read_helper\n",
      "    result = read_yaml(root, file_name)\n",
      "             ^^^^^^^^^^^^^^^^^^^^^^^^^^\n",
      "  File \"C:\\Users\\pares\\AppData\\Local\\Packages\\PythonSoftwareFoundation.Python.3.11_qbz5n2kfra8p0\\LocalCache\\local-packages\\Python311\\site-packages\\mlflow\\utils\\yaml_utils.py\", line 107, in read_yaml\n",
      "    raise MissingConfigException(f\"Yaml file '{file_path}' does not exist.\")\n",
      "mlflow.exceptions.MissingConfigException: Yaml file 'C:\\Users\\pares\\OneDrive\\Documents\\vs code\\are-u-cat\\mlruns\\1\\meta.yaml' does not exist.\n"
     ]
    },
    {
     "name": "stdout",
     "output_type": "stream",
     "text": [
      "🔗 MLflow Tracking URI: file:///c:/Users/pares/OneDrive/Documents/vs code/are-u-cat/mlruns\n"
     ]
    },
    {
     "name": "stderr",
     "output_type": "stream",
     "text": [
      "C:\\Users\\pares\\AppData\\Local\\Temp\\ipykernel_192\\2313524773.py:30: UserWarning: `input_shape` is undefined or non-square, or `rows` is not in [96, 128, 160, 192, 224]. Weights for input shape (224, 224) will be loaded as the default.\n",
      "  base_model = tf.keras.applications.MobileNetV2(\n"
     ]
    },
    {
     "name": "stdout",
     "output_type": "stream",
     "text": [
      "Found 7998 images belonging to 2 classes.\n",
      "Found 2002 images belonging to 2 classes.\n"
     ]
    },
    {
     "name": "stderr",
     "output_type": "stream",
     "text": [
      "2025/09/23 21:03:33 WARNING mlflow.keras.autologging: Unrecognized dataset type <class 'keras.src.legacy.preprocessing.image.DirectoryIterator'>. Dataset logging skipped.\n",
      "2025/09/23 21:03:33 WARNING mlflow.keras.autologging: Unrecognized dataset type <class 'keras.src.legacy.preprocessing.image.DirectoryIterator'>. Dataset logging skipped.\n",
      "C:\\Users\\pares\\AppData\\Local\\Packages\\PythonSoftwareFoundation.Python.3.11_qbz5n2kfra8p0\\LocalCache\\local-packages\\Python311\\site-packages\\keras\\src\\trainers\\data_adapters\\py_dataset_adapter.py:121: UserWarning: Your `PyDataset` class should call `super().__init__(**kwargs)` in its constructor. `**kwargs` can include `workers`, `use_multiprocessing`, `max_queue_size`. Do not pass these arguments to `fit()`, as they will be ignored.\n",
      "  self._warn_if_super_not_called()\n"
     ]
    },
    {
     "data": {
      "text/html": [
       "<pre style=\"white-space:pre;overflow-x:auto;line-height:normal;font-family:Menlo,'DejaVu Sans Mono',consolas,'Courier New',monospace\"></pre>\n"
      ],
      "text/plain": []
     },
     "metadata": {},
     "output_type": "display_data"
    },
    {
     "name": "stdout",
     "output_type": "stream",
     "text": [
      "Epoch 1/5\n",
      "\u001b[1m250/250\u001b[0m \u001b[32m━━━━━━━━━━━━━━━━━━━━\u001b[0m\u001b[37m\u001b[0m \u001b[1m29s\u001b[0m 78ms/step - accuracy: 0.7803 - loss: 0.4664 - val_accuracy: 0.8152 - val_loss: 0.3997\n",
      "Epoch 2/5\n",
      "\u001b[1m250/250\u001b[0m \u001b[32m━━━━━━━━━━━━━━━━━━━━\u001b[0m\u001b[37m\u001b[0m \u001b[1m17s\u001b[0m 68ms/step - accuracy: 0.8417 - loss: 0.3447 - val_accuracy: 0.8162 - val_loss: 0.4003\n",
      "Epoch 3/5\n",
      "\u001b[1m250/250\u001b[0m \u001b[32m━━━━━━━━━━━━━━━━━━━━\u001b[0m\u001b[37m\u001b[0m \u001b[1m17s\u001b[0m 67ms/step - accuracy: 0.8730 - loss: 0.2881 - val_accuracy: 0.8247 - val_loss: 0.4062\n",
      "Epoch 4/5\n",
      "\u001b[1m250/250\u001b[0m \u001b[32m━━━━━━━━━━━━━━━━━━━━\u001b[0m\u001b[37m\u001b[0m \u001b[1m48s\u001b[0m 192ms/step - accuracy: 0.9034 - loss: 0.2320 - val_accuracy: 0.8132 - val_loss: 0.4339\n",
      "Epoch 5/5\n",
      "\u001b[1m250/250\u001b[0m \u001b[32m━━━━━━━━━━━━━━━━━━━━\u001b[0m\u001b[37m\u001b[0m \u001b[1m36s\u001b[0m 144ms/step - accuracy: 0.9297 - loss: 0.1793 - val_accuracy: 0.8097 - val_loss: 0.4623\n"
     ]
    },
    {
     "name": "stderr",
     "output_type": "stream",
     "text": [
      "2025/09/23 21:06:01 WARNING mlflow.models.model: `artifact_path` is deprecated. Please use `name` instead.\n",
      "2025/09/23 21:06:24 WARNING mlflow.models.model: `artifact_path` is deprecated. Please use `name` instead.\n",
      "2025/09/23 21:06:24 WARNING mlflow.keras.save: You are saving a Keras model without specifying model signature.\n",
      "2025/09/23 21:06:35 WARNING mlflow.models.model: Model logged without a signature and input example. Please set `input_example` parameter when logging the model to auto infer the model signature.\n"
     ]
    },
    {
     "name": "stdout",
     "output_type": "stream",
     "text": [
      "✅ Final Validation Accuracy: 0.8097\n",
      "🎯 MLflow run completed successfully!\n",
      "\u001b[1m1/1\u001b[0m \u001b[32m━━━━━━━━━━━━━━━━━━━━\u001b[0m\u001b[37m\u001b[0m \u001b[1m2s\u001b[0m 2s/step\n",
      "Prediction: dog\n",
      "aaaaaaa\n",
      "are- u-a-cat-or-dog2\n",
      "are-u-a-cat-or-dog\n"
     ]
    }
   ],
   "source": [
    "import os\n",
    "os.environ[\"GOOGLE_APPLICATION_CREDENTIALS\"] = \"my-test-project-466009-b10d519c6fd7.json\"\n",
    "\n",
    "import numpy as np\n",
    "import tensorflow as tf\n",
    "from tensorflow.keras import layers, models, optimizers\n",
    "from tensorflow.keras.preprocessing.image import ImageDataGenerator, load_img, img_to_array\n",
    "import mlflow\n",
    "import mlflow.keras\n",
    "from mlflow.tracking import MlflowClient\n",
    "\n",
    "# Prepare mlflow tracking URI (file-based)\n",
    "tracking_dir = os.path.join(os.getcwd(), \"mlruns\")\n",
    "os.makedirs(tracking_dir, exist_ok=True)\n",
    "tracking_dir_fixed = tracking_dir.replace(\"\\\\\", \"/\")\n",
    "tracking_uri = f\"file:///{tracking_dir_fixed}\"\n",
    "print(f\"🔗 MLflow Tracking URI: {tracking_uri}\")\n",
    "\n",
    "mlflow.set_tracking_uri(tracking_uri)\n",
    "mlflow.set_experiment(\"cat-vs-dog-hyperparam-tuning\")\n",
    "\n",
    "# Enable autolog (it will log many Keras parameters/metrics automatically)\n",
    "mlflow.keras.autolog()\n",
    "\n",
    "# Use a single variable for epochs so it's consistent everywhere\n",
    "EPOCHS = 5\n",
    "\n",
    "with mlflow.start_run(run_name=\"mobilenetv2-cat-vs-dog\"):\n",
    "    # Load pretrained MobileNetV2 as base model\n",
    "    base_model = tf.keras.applications.MobileNetV2(\n",
    "        input_shape=(64, 64, 3),\n",
    "        include_top=False,\n",
    "        weights='imagenet'\n",
    "    )\n",
    "    base_model.trainable = False  # Freeze pretrained layers\n",
    "\n",
    "    # Build sequential model on top of base model\n",
    "    model = models.Sequential([\n",
    "        base_model,\n",
    "        layers.GlobalAveragePooling2D(),\n",
    "        layers.Dense(128, activation='relu'),\n",
    "        layers.Dropout(0.3),\n",
    "        layers.Dense(1, activation='sigmoid')  # Binary classification\n",
    "    ])\n",
    "\n",
    "    model.compile(\n",
    "        optimizer=optimizers.Adam(),\n",
    "        loss='binary_crossentropy',\n",
    "        metrics=['accuracy']\n",
    "    )\n",
    "\n",
    "    # Data generators\n",
    "    train_datagen = ImageDataGenerator(rescale=1.0/255.0)\n",
    "    training_set = train_datagen.flow_from_directory(\n",
    "        r\"C:\\Users\\pares\\OneDrive\\Documents\\vs code\\are-u-cat\\dataset\\training_set\",\n",
    "        target_size=(64, 64),\n",
    "        batch_size=32,\n",
    "        class_mode='binary'\n",
    "    )\n",
    "\n",
    "    test_datagen = ImageDataGenerator(rescale=1.0/255.0)\n",
    "    test_set = test_datagen.flow_from_directory(\n",
    "        r\"C:\\Users\\pares\\OneDrive\\Documents\\vs code\\are-u-cat\\dataset\\test_set\",\n",
    "        target_size=(64, 64),\n",
    "        batch_size=32,\n",
    "        class_mode='binary'\n",
    "    )\n",
    "\n",
    "    # Train\n",
    "    history = model.fit(training_set, validation_data=test_set, epochs=EPOCHS)\n",
    "\n",
    "    # --- IMPORTANT: avoid re-logging keys autolog already wrote ---\n",
    "    # Option: store custom metadata as tags (safe)\n",
    "    mlflow.set_tag(\"manual_input_shape\", \"64x64x3\")\n",
    "    mlflow.set_tag(\"manual_optimizer\", \"Adam\")\n",
    "    mlflow.set_tag(\"manual_epochs\", str(EPOCHS))\n",
    "\n",
    "    # If you do want params, use unique keys to avoid collision:\n",
    "    mlflow.log_param(\"manual_batch_size\", 32)\n",
    "\n",
    "    # Log final metrics manually if you like (autolog usually already logs epoch metrics)\n",
    "    mlflow.log_metric(\"final_train_accuracy\", history.history['accuracy'][-1])\n",
    "    mlflow.log_metric(\"final_val_accuracy\", history.history['val_accuracy'][-1])\n",
    "\n",
    "    # Explicitly log the model (autolog may already have done this)\n",
    "    mlflow.keras.log_model(model, \"model\")\n",
    "\n",
    "    print(f\"✅ Final Validation Accuracy: {history.history['val_accuracy'][-1]:.4f}\")\n",
    "    print(\"🎯 MLflow run completed successfully!\")\n",
    "\n",
    "    # Test single image\n",
    "    test_image = load_img(\n",
    "        r\"C:\\Users\\pares\\OneDrive\\Documents\\vs code\\are-u-cat\\dataset\\test_set\\dogs\\dog.4025.jpg\",\n",
    "        target_size=(64, 64)\n",
    "    )\n",
    "    test_image = img_to_array(test_image) / 255.0\n",
    "    test_image = np.expand_dims(test_image, axis=0)\n",
    "\n",
    "    result = model.predict(test_image)\n",
    "    prediction = 'dog' if result[0][0] >= 0.5 else 'cat'\n",
    "    print(\"Prediction:\", prediction)\n",
    "\n",
    "# Inspect registered models (optional)\n",
    "client = MlflowClient()\n",
    "for rm in client.search_registered_models():\n",
    "    print(rm.name)\n",
    "\n",
    "# If you want to switch to a remote tracking server:\n",
    "# mlflow.set_tracking_uri(\"http://104.197.55.178:5000/\")\n",
    "# mlflow.set_experiment(\"cat-vs-dog-hyperparam-tuning\")\n"
   ]
  },
  {
   "cell_type": "code",
   "execution_count": 2,
   "metadata": {},
   "outputs": [
    {
     "name": "stderr",
     "output_type": "stream",
     "text": [
      "WARNING:absl:You are saving your model as an HDF5 file via `model.save()` or `keras.saving.save_model(model)`. This file format is considered legacy. We recommend using instead the native Keras format, e.g. `model.save('my_model.keras')` or `keras.saving.save_model(model, 'my_model.keras')`. \n"
     ]
    }
   ],
   "source": [
    "model.save(\"cat_dog_model.h5\")\n"
   ]
  }
 ],
 "metadata": {
  "kernelspec": {
   "display_name": "Python 3",
   "language": "python",
   "name": "python3"
  },
  "language_info": {
   "codemirror_mode": {
    "name": "ipython",
    "version": 3
   },
   "file_extension": ".py",
   "mimetype": "text/x-python",
   "name": "python",
   "nbconvert_exporter": "python",
   "pygments_lexer": "ipython3",
   "version": "3.11.9"
  }
 },
 "nbformat": 4,
 "nbformat_minor": 2
}
